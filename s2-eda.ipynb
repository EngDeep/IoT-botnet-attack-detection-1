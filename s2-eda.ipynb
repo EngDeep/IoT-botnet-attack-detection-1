{
 "cells": [
  {
   "cell_type": "code",
   "execution_count": 19,
   "metadata": {},
   "outputs": [],
   "source": [
    "# Importing necssary modules\n",
    "import pandas as pd\n",
    "import numpy as np\n",
    "import seaborn as sns\n",
    "import os\n",
    "from scripts.utils import load_device_data"
   ]
  },
  {
   "cell_type": "code",
   "execution_count": 20,
   "metadata": {},
   "outputs": [],
   "source": [
    "# Data folder path\n",
    "base_directory = '../rawdata'\n",
    "file_extension = \"*.csv\""
   ]
  },
  {
   "cell_type": "code",
   "execution_count": 21,
   "metadata": {},
   "outputs": [],
   "source": [
    "device_list = ['Danmini_Doorbell', 'Ecobee_Thermostat', \n",
    "                        'Ennio_Doorbell', 'Philips_B120N10_Baby_Monitor',\n",
    "                        'Provision_PT_737E_Security_Camera', 'Provision_PT_838_Security_Camera',\n",
    "                        'Samsung_SNH_1011_N_Webcam', 'SimpleHome_XCS7_1002_WHT_Security_Camera',\n",
    "                        'SimpleHome_XCS7_1003_WHT_Security_Camera']"
   ]
  },
  {
   "cell_type": "code",
   "execution_count": null,
   "metadata": {},
   "outputs": [],
   "source": [
    "df = load_device_data(base_directory, file_extension, 1, 0)"
   ]
  },
  {
   "cell_type": "code",
   "execution_count": 2,
   "metadata": {},
   "outputs": [],
   "source": [
    "df.head()"
   ]
  },
  {
   "cell_type": "code",
   "execution_count": 3,
   "metadata": {},
   "outputs": [],
   "source": []
  },
  {
   "cell_type": "code",
   "execution_count": 18,
   "metadata": {},
   "outputs": [
    {
     "name": "stdout",
     "output_type": "stream",
     "text": [
      "Provision_PT_838_Security_Camera\n",
      "Provision_PT_838_Security_Camera\n",
      "Provision_PT_838_Security_Camera\n",
      "Provision_PT_838_Security_Camera\n",
      "Provision_PT_838_Security_Camera\n",
      "Provision_PT_838_Security_Camera\n",
      "Provision_PT_838_Security_Camera\n",
      "Provision_PT_838_Security_Camera\n",
      "Provision_PT_838_Security_Camera\n",
      "Provision_PT_838_Security_Camera\n",
      "Provision_PT_838_Security_Camera\n"
     ]
    }
   ],
   "source": []
  },
  {
   "cell_type": "code",
   "execution_count": null,
   "metadata": {},
   "outputs": [],
   "source": []
  }
 ],
 "metadata": {
  "kernelspec": {
   "display_name": "Python 3",
   "language": "python",
   "name": "python3"
  },
  "language_info": {
   "codemirror_mode": {
    "name": "ipython",
    "version": 3
   },
   "file_extension": ".py",
   "mimetype": "text/x-python",
   "name": "python",
   "nbconvert_exporter": "python",
   "pygments_lexer": "ipython3",
   "version": "3.7.8"
  }
 },
 "nbformat": 4,
 "nbformat_minor": 4
}
