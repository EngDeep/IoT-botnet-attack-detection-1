{
 "cells": [
  {
   "cell_type": "markdown",
   "metadata": {},
   "source": [
    "## IoT Botnet Detection"
   ]
  },
  {
   "cell_type": "markdown",
   "metadata": {},
   "source": [
    "Due to Increasing usage of digital communication in this digital era, cyber security is crucial to maintain a high level of safety. To prevent an increasing number of cyber attacks, traditional security system firewalls, encryption is not enough. There is a need for intrusion detection systems that can integrate with traditional systems and assure a high level of security of data.\n",
    "\n",
    "\n",
    "Data set contain 11 different csv file. each file represent different type of attack data. There is two malware used on this dataset. Mirai and Gafgyt.\n",
    "\n",
    "* benign_traffic.csv - Benign Traffic\n",
    "* mirai_attacks/ack.csv - Mallicious 1\n",
    "* mirai_attacks/scan.csv - mallicious 2\n",
    "* mirai_attacks/syn.csv - mallicious 3\n",
    "* mirai_attacks/udp.csv - mallicious 4\n",
    "* mirai_attacks/udpplain.csv - mallicious 5\n",
    "* gafgyt_attacks/combo.csv - mallicious 6\n",
    "* gafgyt_attacks/junk.csv - mallicious 7\n",
    "* gafgyt_attacks/scan.csv - mallicious 8\n",
    "* gafgyt_attacks/tcp.csv - mallicious 9\n",
    "* gafgyt_attacks/udp.csv - mallicious 10"
   ]
  },
  {
   "cell_type": "code",
   "execution_count": 10,
   "metadata": {},
   "outputs": [],
   "source": [
    "# Importing necssary modules\n",
    "import pandas as pd\n",
    "import numpy as np\n",
    "import seaborn as sns\n",
    "import os, glob"
   ]
  },
  {
   "cell_type": "code",
   "execution_count": 8,
   "metadata": {},
   "outputs": [],
   "source": [
    "# Data folder path\n",
    "base_directory = '../rawdata/'"
   ]
  },
  {
   "cell_type": "markdown",
   "metadata": {},
   "source": [
    "The data contain 9 different IoT devices, each devices having benign / mallicious traffic data. since all csv files are in seperate folder, i created simple function to load the csv file into data frame"
   ]
  },
  {
   "cell_type": "code",
   "execution_count": 34,
   "metadata": {},
   "outputs": [],
   "source": [
    "# This csv file divided into three category of dataframes, benign, mirai, gafgyt\n",
    "def create_three_class_data_frame(directory):\n",
    "    \"\"\"\n",
    "    Creates a data frame consisting of all the .csv-files in a given directory. The directory should\n",
    "    be where the unzipped data files are stored. Assumes the file structurce is\n",
    "        device name\n",
    "            mirai_attacks(folder)\n",
    "            gafgyt_attacks(folder)\n",
    "            benign_traffic.csb\n",
    "            \n",
    "    Parameters\n",
    "    ----------\n",
    "    directory : str\n",
    "        The directory in which the data files are stored. \n",
    "        \n",
    "    Returns\n",
    "    -------\n",
    "    benign_data : pandas data frame \n",
    "        consisting of all the bengin data.\n",
    "    mirai_data : pandas data frame\n",
    "        consisting of all mirai attack csv file into one data frame\n",
    "    gafgyt_data : pandas data frame\n",
    "        consisting of all gafgyt attack csv file into one data frame\n",
    "    \"\"\"\n",
    "    try:\n",
    "    \n",
    "        benign_data = pd.read_csv('{directory}benign_traffic.csv'.format(directory=directory))\n",
    "        benign_data['label'] = 'benign_traffic'\n",
    "\n",
    "        # Mirai\n",
    "        if os.path.isdir(directory + 'mirai_attacks'):\n",
    "            mirai_data = pd.concat(map(pd.read_csv, glob.glob(directory + 'mirai_attacks/*.csv')))\n",
    "            mirai_data['label'] = 'mirai_traffic'\n",
    "        else:\n",
    "            mirai_data = 0\n",
    "\n",
    "        # Gafgyt\n",
    "        if os.path.isdir(directory + 'gafgyt_attacks'):\n",
    "            gafgyt_data = pd.concat(map(pd.read_csv, glob.glob(directory + 'gafgyt_attacks/*.csv')))\n",
    "            gafgyt_data['label'] = 'gafgyt_data'\n",
    "        else:\n",
    "            gafgyt_data = 0\n",
    "    \n",
    "        \n",
    "        return(benign_data, mirai_data, gafgyt_data)\n",
    "    except:\n",
    "        return 'Failed'"
   ]
  },
  {
   "cell_type": "markdown",
   "metadata": {},
   "source": [
    "#### Danmini_Doorbell"
   ]
  },
  {
   "cell_type": "code",
   "execution_count": 13,
   "metadata": {},
   "outputs": [],
   "source": [
    "danmini_doorbell_benign,\\\n",
    "danmini_doorbell_mirai,\\\n",
    "danmin_doorbell_gafgyt = create_three_class_data_frame(base_directory + 'Danmini_Doorbell' + '/')"
   ]
  },
  {
   "cell_type": "code",
   "execution_count": 14,
   "metadata": {},
   "outputs": [
    {
     "name": "stdout",
     "output_type": "stream",
     "text": [
      " Benign_data_shape: (49548, 116)\n",
      " Mirai_data_shape: (652100, 116)\n",
      " Gafgyt_data_shape: (316650, 116)\n"
     ]
    }
   ],
   "source": [
    "print(f' Benign_data_shape: {danmini_doorbell_benign.shape}')\n",
    "print(f' Mirai_data_shape: {danmini_doorbell_mirai.shape}')\n",
    "print(f' Gafgyt_data_shape: {danmin_doorbell_gafgyt.shape}')"
   ]
  },
  {
   "cell_type": "code",
   "execution_count": 16,
   "metadata": {},
   "outputs": [
    {
     "name": "stdout",
     "output_type": "stream",
     "text": [
      "<class 'pandas.core.frame.DataFrame'>\n",
      "RangeIndex: 49548 entries, 0 to 49547\n",
      "Columns: 116 entries, MI_dir_L5_weight to label\n",
      "dtypes: float64(115), object(1)\n",
      "memory usage: 43.9+ MB\n"
     ]
    }
   ],
   "source": [
    "danmini_doorbell_benign.info()"
   ]
  },
  {
   "cell_type": "code",
   "execution_count": 17,
   "metadata": {},
   "outputs": [
    {
     "name": "stdout",
     "output_type": "stream",
     "text": [
      "<class 'pandas.core.frame.DataFrame'>\n",
      "Int64Index: 652100 entries, 0 to 81981\n",
      "Columns: 116 entries, MI_dir_L5_weight to label\n",
      "dtypes: float64(115), object(1)\n",
      "memory usage: 582.1+ MB\n"
     ]
    }
   ],
   "source": [
    "danmini_doorbell_mirai.info()"
   ]
  },
  {
   "cell_type": "code",
   "execution_count": 18,
   "metadata": {},
   "outputs": [
    {
     "name": "stdout",
     "output_type": "stream",
     "text": [
      "<class 'pandas.core.frame.DataFrame'>\n",
      "Int64Index: 316650 entries, 0 to 105873\n",
      "Columns: 116 entries, MI_dir_L5_weight to label\n",
      "dtypes: float64(115), object(1)\n",
      "memory usage: 282.7+ MB\n"
     ]
    }
   ],
   "source": [
    "danmin_doorbell_gafgyt.info()"
   ]
  },
  {
   "cell_type": "markdown",
   "metadata": {},
   "source": [
    "There are 49548 rows of benign data, 652100 rows of mirai data, 316650 rows of gafgyt data. Mirai and gafgyt is combined dataframe of all 5 class of attacks."
   ]
  },
  {
   "cell_type": "markdown",
   "metadata": {},
   "source": [
    "Check if there ay missing values in the dataframe"
   ]
  },
  {
   "cell_type": "code",
   "execution_count": 25,
   "metadata": {},
   "outputs": [],
   "source": [
    "## Chcking is there any missing value in the dataset\n",
    "def check_dataset_having_null_value(dataframe):\n",
    "    missing = pd.concat([dataframe.isnull().sum(), 100 * dataframe.isnull().mean()], axis=1)\n",
    "    missing.columns=['count', '%']\n",
    "    missing.sort_values(by='%', ascending=False, inplace=True)\n",
    "    return missing"
   ]
  },
  {
   "cell_type": "code",
   "execution_count": 26,
   "metadata": {},
   "outputs": [
    {
     "data": {
      "text/html": [
       "<div>\n",
       "<style scoped>\n",
       "    .dataframe tbody tr th:only-of-type {\n",
       "        vertical-align: middle;\n",
       "    }\n",
       "\n",
       "    .dataframe tbody tr th {\n",
       "        vertical-align: top;\n",
       "    }\n",
       "\n",
       "    .dataframe thead th {\n",
       "        text-align: right;\n",
       "    }\n",
       "</style>\n",
       "<table border=\"1\" class=\"dataframe\">\n",
       "  <thead>\n",
       "    <tr style=\"text-align: right;\">\n",
       "      <th></th>\n",
       "      <th>count</th>\n",
       "      <th>%</th>\n",
       "    </tr>\n",
       "  </thead>\n",
       "  <tbody>\n",
       "    <tr>\n",
       "      <th>MI_dir_L5_weight</th>\n",
       "      <td>0</td>\n",
       "      <td>0.0</td>\n",
       "    </tr>\n",
       "    <tr>\n",
       "      <th>HH_jit_L1_variance</th>\n",
       "      <td>0</td>\n",
       "      <td>0.0</td>\n",
       "    </tr>\n",
       "    <tr>\n",
       "      <th>HpHp_L5_covariance</th>\n",
       "      <td>0</td>\n",
       "      <td>0.0</td>\n",
       "    </tr>\n",
       "    <tr>\n",
       "      <th>HpHp_L5_radius</th>\n",
       "      <td>0</td>\n",
       "      <td>0.0</td>\n",
       "    </tr>\n",
       "    <tr>\n",
       "      <th>HpHp_L5_magnitude</th>\n",
       "      <td>0</td>\n",
       "      <td>0.0</td>\n",
       "    </tr>\n",
       "    <tr>\n",
       "      <th>...</th>\n",
       "      <td>...</td>\n",
       "      <td>...</td>\n",
       "    </tr>\n",
       "    <tr>\n",
       "      <th>HH_L5_radius</th>\n",
       "      <td>0</td>\n",
       "      <td>0.0</td>\n",
       "    </tr>\n",
       "    <tr>\n",
       "      <th>HH_L5_magnitude</th>\n",
       "      <td>0</td>\n",
       "      <td>0.0</td>\n",
       "    </tr>\n",
       "    <tr>\n",
       "      <th>HH_L5_std</th>\n",
       "      <td>0</td>\n",
       "      <td>0.0</td>\n",
       "    </tr>\n",
       "    <tr>\n",
       "      <th>HH_L5_mean</th>\n",
       "      <td>0</td>\n",
       "      <td>0.0</td>\n",
       "    </tr>\n",
       "    <tr>\n",
       "      <th>label</th>\n",
       "      <td>0</td>\n",
       "      <td>0.0</td>\n",
       "    </tr>\n",
       "  </tbody>\n",
       "</table>\n",
       "<p>116 rows × 2 columns</p>\n",
       "</div>"
      ],
      "text/plain": [
       "                    count    %\n",
       "MI_dir_L5_weight        0  0.0\n",
       "HH_jit_L1_variance      0  0.0\n",
       "HpHp_L5_covariance      0  0.0\n",
       "HpHp_L5_radius          0  0.0\n",
       "HpHp_L5_magnitude       0  0.0\n",
       "...                   ...  ...\n",
       "HH_L5_radius            0  0.0\n",
       "HH_L5_magnitude         0  0.0\n",
       "HH_L5_std               0  0.0\n",
       "HH_L5_mean              0  0.0\n",
       "label                   0  0.0\n",
       "\n",
       "[116 rows x 2 columns]"
      ]
     },
     "execution_count": 26,
     "metadata": {},
     "output_type": "execute_result"
    }
   ],
   "source": [
    "check_dataset_having_null_value(danmini_doorbell_benign)"
   ]
  },
  {
   "cell_type": "code",
   "execution_count": 27,
   "metadata": {},
   "outputs": [
    {
     "data": {
      "text/html": [
       "<div>\n",
       "<style scoped>\n",
       "    .dataframe tbody tr th:only-of-type {\n",
       "        vertical-align: middle;\n",
       "    }\n",
       "\n",
       "    .dataframe tbody tr th {\n",
       "        vertical-align: top;\n",
       "    }\n",
       "\n",
       "    .dataframe thead th {\n",
       "        text-align: right;\n",
       "    }\n",
       "</style>\n",
       "<table border=\"1\" class=\"dataframe\">\n",
       "  <thead>\n",
       "    <tr style=\"text-align: right;\">\n",
       "      <th></th>\n",
       "      <th>count</th>\n",
       "      <th>%</th>\n",
       "    </tr>\n",
       "  </thead>\n",
       "  <tbody>\n",
       "    <tr>\n",
       "      <th>MI_dir_L5_weight</th>\n",
       "      <td>0</td>\n",
       "      <td>0.0</td>\n",
       "    </tr>\n",
       "    <tr>\n",
       "      <th>HH_jit_L1_variance</th>\n",
       "      <td>0</td>\n",
       "      <td>0.0</td>\n",
       "    </tr>\n",
       "    <tr>\n",
       "      <th>HpHp_L5_covariance</th>\n",
       "      <td>0</td>\n",
       "      <td>0.0</td>\n",
       "    </tr>\n",
       "    <tr>\n",
       "      <th>HpHp_L5_radius</th>\n",
       "      <td>0</td>\n",
       "      <td>0.0</td>\n",
       "    </tr>\n",
       "    <tr>\n",
       "      <th>HpHp_L5_magnitude</th>\n",
       "      <td>0</td>\n",
       "      <td>0.0</td>\n",
       "    </tr>\n",
       "    <tr>\n",
       "      <th>...</th>\n",
       "      <td>...</td>\n",
       "      <td>...</td>\n",
       "    </tr>\n",
       "    <tr>\n",
       "      <th>HH_L5_radius</th>\n",
       "      <td>0</td>\n",
       "      <td>0.0</td>\n",
       "    </tr>\n",
       "    <tr>\n",
       "      <th>HH_L5_magnitude</th>\n",
       "      <td>0</td>\n",
       "      <td>0.0</td>\n",
       "    </tr>\n",
       "    <tr>\n",
       "      <th>HH_L5_std</th>\n",
       "      <td>0</td>\n",
       "      <td>0.0</td>\n",
       "    </tr>\n",
       "    <tr>\n",
       "      <th>HH_L5_mean</th>\n",
       "      <td>0</td>\n",
       "      <td>0.0</td>\n",
       "    </tr>\n",
       "    <tr>\n",
       "      <th>label</th>\n",
       "      <td>0</td>\n",
       "      <td>0.0</td>\n",
       "    </tr>\n",
       "  </tbody>\n",
       "</table>\n",
       "<p>116 rows × 2 columns</p>\n",
       "</div>"
      ],
      "text/plain": [
       "                    count    %\n",
       "MI_dir_L5_weight        0  0.0\n",
       "HH_jit_L1_variance      0  0.0\n",
       "HpHp_L5_covariance      0  0.0\n",
       "HpHp_L5_radius          0  0.0\n",
       "HpHp_L5_magnitude       0  0.0\n",
       "...                   ...  ...\n",
       "HH_L5_radius            0  0.0\n",
       "HH_L5_magnitude         0  0.0\n",
       "HH_L5_std               0  0.0\n",
       "HH_L5_mean              0  0.0\n",
       "label                   0  0.0\n",
       "\n",
       "[116 rows x 2 columns]"
      ]
     },
     "execution_count": 27,
     "metadata": {},
     "output_type": "execute_result"
    }
   ],
   "source": [
    "check_dataset_having_null_value(danmini_doorbell_mirai)"
   ]
  },
  {
   "cell_type": "code",
   "execution_count": 28,
   "metadata": {},
   "outputs": [
    {
     "data": {
      "text/html": [
       "<div>\n",
       "<style scoped>\n",
       "    .dataframe tbody tr th:only-of-type {\n",
       "        vertical-align: middle;\n",
       "    }\n",
       "\n",
       "    .dataframe tbody tr th {\n",
       "        vertical-align: top;\n",
       "    }\n",
       "\n",
       "    .dataframe thead th {\n",
       "        text-align: right;\n",
       "    }\n",
       "</style>\n",
       "<table border=\"1\" class=\"dataframe\">\n",
       "  <thead>\n",
       "    <tr style=\"text-align: right;\">\n",
       "      <th></th>\n",
       "      <th>count</th>\n",
       "      <th>%</th>\n",
       "    </tr>\n",
       "  </thead>\n",
       "  <tbody>\n",
       "    <tr>\n",
       "      <th>MI_dir_L5_weight</th>\n",
       "      <td>0</td>\n",
       "      <td>0.0</td>\n",
       "    </tr>\n",
       "    <tr>\n",
       "      <th>HH_jit_L1_variance</th>\n",
       "      <td>0</td>\n",
       "      <td>0.0</td>\n",
       "    </tr>\n",
       "    <tr>\n",
       "      <th>HpHp_L5_covariance</th>\n",
       "      <td>0</td>\n",
       "      <td>0.0</td>\n",
       "    </tr>\n",
       "    <tr>\n",
       "      <th>HpHp_L5_radius</th>\n",
       "      <td>0</td>\n",
       "      <td>0.0</td>\n",
       "    </tr>\n",
       "    <tr>\n",
       "      <th>HpHp_L5_magnitude</th>\n",
       "      <td>0</td>\n",
       "      <td>0.0</td>\n",
       "    </tr>\n",
       "    <tr>\n",
       "      <th>...</th>\n",
       "      <td>...</td>\n",
       "      <td>...</td>\n",
       "    </tr>\n",
       "    <tr>\n",
       "      <th>HH_L5_radius</th>\n",
       "      <td>0</td>\n",
       "      <td>0.0</td>\n",
       "    </tr>\n",
       "    <tr>\n",
       "      <th>HH_L5_magnitude</th>\n",
       "      <td>0</td>\n",
       "      <td>0.0</td>\n",
       "    </tr>\n",
       "    <tr>\n",
       "      <th>HH_L5_std</th>\n",
       "      <td>0</td>\n",
       "      <td>0.0</td>\n",
       "    </tr>\n",
       "    <tr>\n",
       "      <th>HH_L5_mean</th>\n",
       "      <td>0</td>\n",
       "      <td>0.0</td>\n",
       "    </tr>\n",
       "    <tr>\n",
       "      <th>label</th>\n",
       "      <td>0</td>\n",
       "      <td>0.0</td>\n",
       "    </tr>\n",
       "  </tbody>\n",
       "</table>\n",
       "<p>116 rows × 2 columns</p>\n",
       "</div>"
      ],
      "text/plain": [
       "                    count    %\n",
       "MI_dir_L5_weight        0  0.0\n",
       "HH_jit_L1_variance      0  0.0\n",
       "HpHp_L5_covariance      0  0.0\n",
       "HpHp_L5_radius          0  0.0\n",
       "HpHp_L5_magnitude       0  0.0\n",
       "...                   ...  ...\n",
       "HH_L5_radius            0  0.0\n",
       "HH_L5_magnitude         0  0.0\n",
       "HH_L5_std               0  0.0\n",
       "HH_L5_mean              0  0.0\n",
       "label                   0  0.0\n",
       "\n",
       "[116 rows x 2 columns]"
      ]
     },
     "execution_count": 28,
     "metadata": {},
     "output_type": "execute_result"
    }
   ],
   "source": [
    "check_dataset_having_null_value(danmin_doorbell_gafgyt)"
   ]
  },
  {
   "cell_type": "markdown",
   "metadata": {},
   "source": [
    "Looks like there is no null values in the dataset"
   ]
  },
  {
   "cell_type": "markdown",
   "metadata": {},
   "source": [
    "#### Ecobee_Thermostat"
   ]
  },
  {
   "cell_type": "code",
   "execution_count": 35,
   "metadata": {},
   "outputs": [],
   "source": [
    "ecobee_thermostat_benign,\\\n",
    "ecobee_thermostat_mirai,\\\n",
    "ecobee_thermostat_gafgyt = create_three_class_data_frame(base_directory + 'Ecobee_Thermostat' + '/')"
   ]
  },
  {
   "cell_type": "code",
   "execution_count": 36,
   "metadata": {},
   "outputs": [
    {
     "name": "stdout",
     "output_type": "stream",
     "text": [
      " Benign_data_shape: (13113, 116)\n",
      " Mirai_data_shape: (512133, 116)\n",
      " Gafgyt_data_shape: (310630, 116)\n"
     ]
    }
   ],
   "source": [
    "print(f' Benign_data_shape: {ecobee_thermostat_benign.shape}')\n",
    "print(f' Mirai_data_shape: {ecobee_thermostat_mirai.shape}')\n",
    "print(f' Gafgyt_data_shape: {ecobee_thermostat_gafgyt.shape}')"
   ]
  },
  {
   "cell_type": "markdown",
   "metadata": {},
   "source": [
    "There are 13113 rows of benign data, 512133 rows of mirai data, 310630 rows of gafgyt data. Mirai and gafgyt is combined dataframe of all 5 class of attacks."
   ]
  },
  {
   "cell_type": "markdown",
   "metadata": {},
   "source": [
    "#### Ennio Doorbell"
   ]
  },
  {
   "cell_type": "code",
   "execution_count": 37,
   "metadata": {},
   "outputs": [
    {
     "ename": "ValueError",
     "evalue": "too many values to unpack (expected 3)",
     "output_type": "error",
     "traceback": [
      "\u001b[1;31m---------------------------------------------------------------------------\u001b[0m",
      "\u001b[1;31mValueError\u001b[0m                                Traceback (most recent call last)",
      "\u001b[1;32m<ipython-input-37-4edd93502517>\u001b[0m in \u001b[0;36m<module>\u001b[1;34m\u001b[0m\n\u001b[0;32m      1\u001b[0m \u001b[0mennio_doorbell_benign\u001b[0m\u001b[1;33m,\u001b[0m\u001b[0;31m\\\u001b[0m\u001b[1;33m\u001b[0m\u001b[1;33m\u001b[0m\u001b[0m\n\u001b[0;32m      2\u001b[0m \u001b[0mennio_doorbell_mirai\u001b[0m\u001b[1;33m,\u001b[0m\u001b[0;31m\\\u001b[0m\u001b[1;33m\u001b[0m\u001b[1;33m\u001b[0m\u001b[0m\n\u001b[1;32m----> 3\u001b[1;33m \u001b[0mennio_doorbell_gafgyt\u001b[0m \u001b[1;33m=\u001b[0m \u001b[0mcreate_three_class_data_frame\u001b[0m\u001b[1;33m(\u001b[0m\u001b[0mbase_directory\u001b[0m \u001b[1;33m+\u001b[0m \u001b[1;34m'Ennio_Doorbell'\u001b[0m \u001b[1;33m+\u001b[0m \u001b[1;34m'/'\u001b[0m\u001b[1;33m)\u001b[0m\u001b[1;33m\u001b[0m\u001b[1;33m\u001b[0m\u001b[0m\n\u001b[0m",
      "\u001b[1;31mValueError\u001b[0m: too many values to unpack (expected 3)"
     ]
    }
   ],
   "source": [
    "ennio_doorbell_benign,\\\n",
    "ennio_doorbell_mirai,\\\n",
    "ennio_doorbell_gafgyt = create_three_class_data_frame(base_directory + 'Ennio_Doorbell' + '/')"
   ]
  },
  {
   "cell_type": "code",
   "execution_count": null,
   "metadata": {},
   "outputs": [],
   "source": [
    "print(f' Benign_data_shape: {ennio_doorbell_benign.shape}')\n",
    "print(f' Mirai_data_shape: {ennio_doorbell_mirai.shape}')\n",
    "print(f' Gafgyt_data_shape: {ennio_doorbell_gafgyt.shape}')"
   ]
  }
 ],
 "metadata": {
  "kernelspec": {
   "display_name": "Python 3",
   "language": "python",
   "name": "python3"
  },
  "language_info": {
   "codemirror_mode": {
    "name": "ipython",
    "version": 3
   },
   "file_extension": ".py",
   "mimetype": "text/x-python",
   "name": "python",
   "nbconvert_exporter": "python",
   "pygments_lexer": "ipython3",
   "version": "3.7.8"
  }
 },
 "nbformat": 4,
 "nbformat_minor": 4
}
