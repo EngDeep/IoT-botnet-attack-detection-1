{
 "cells": [
  {
   "cell_type": "markdown",
   "metadata": {},
   "source": [
    "## IoT Botnet Detection"
   ]
  },
  {
   "cell_type": "markdown",
   "metadata": {},
   "source": [
    "Due to Increasing usage of digital communication in this digital era, cyber security is crucial to maintain a high level of safety. To prevent an increasing number of cyber attacks, traditional security system firewalls, encryption is not enough. There is a need for intrusion detection systems that can integrate with traditional systems and assure a high level of security of data.\n",
    "\n",
    "\n",
    "Data set contain 11 different csv file. each file represent different type of attack data. There is two malware used on this dataset. Mirai and Gafgyt.\n",
    "\n",
    "* benign_traffic.csv - Benign Traffic\n",
    "* mirai_attacks/ack.csv - Mallicious 1\n",
    "* mirai_attacks/scan.csv - mallicious 2\n",
    "* mirai_attacks/syn.csv - mallicious 3\n",
    "* mirai_attacks/udp.csv - mallicious 4\n",
    "* mirai_attacks/udpplain.csv - mallicious 5\n",
    "* gafgyt_attacks/combo.csv - mallicious 6\n",
    "* gafgyt_attacks/junk.csv - mallicious 7\n",
    "* gafgyt_attacks/scan.csv - mallicious 8\n",
    "* gafgyt_attacks/tcp.csv - mallicious 9\n",
    "* gafgyt_attacks/udp.csv - mallicious 10"
   ]
  },
  {
   "cell_type": "code",
   "execution_count": 1,
   "metadata": {},
   "outputs": [],
   "source": [
    "# Importing necssary modules\n",
    "import pandas as pd\n",
    "import numpy as np\n",
    "import seaborn as sns\n",
    "import os\n",
    "from glob import glob"
   ]
  },
  {
   "cell_type": "code",
   "execution_count": 2,
   "metadata": {},
   "outputs": [],
   "source": [
    "# Data folder path\n",
    "base_directory = '../rawdata'\n",
    "file_extension = \"*.csv\""
   ]
  },
  {
   "cell_type": "markdown",
   "metadata": {},
   "source": [
    "The data contain 9 different IoT devices, each devices having benign / mallicious traffic data. since all csv files are in seperate folder, i created simple function to load the csv file into data frame"
   ]
  },
  {
   "cell_type": "code",
   "execution_count": 3,
   "metadata": {},
   "outputs": [],
   "source": [
    "# This function will read all the bengin data and load into bengin dataframe.\n",
    "def benign_traffic_data(PATH, EXT):\n",
    "    \"\"\"\n",
    "    Creates a data frame consisting of all the .csv-files in a given directory. The directory should\n",
    "    be where the unzipped data files are stored. Assumes the file structurce is\n",
    "        device name\n",
    "            mirai_attacks(folder)\n",
    "            gafgyt_attacks(folder)\n",
    "            benign_traffic.csv\n",
    "    Parameters\n",
    "    ----------\n",
    "    PATH : str\n",
    "        The directory in which the data files are stored. \n",
    "    EXT : str\n",
    "        Extension of the file\n",
    "        \n",
    "    Returns\n",
    "    -------\n",
    "    benign_data : pandas data frame \n",
    "        consisting of all the bengin data.\n",
    "            \n",
    "    \"\"\"\n",
    "    try:\n",
    "        benign_dfs = []\n",
    "        for path, subdir, files in os.walk(PATH):\n",
    "            for file in glob(os.path.join(path, EXT)):\n",
    "                if 'benign_traffic' in file:\n",
    "                    data = pd.read_csv(file)\n",
    "                    data['label'] = 'Benign'\n",
    "                    data['device'] = file.split('\\\\')[1]\n",
    "                    benign_dfs.append(data)\n",
    "        \n",
    "        benign_data = pd.concat(benign_dfs, ignore_index=True)\n",
    "        return benign_data\n",
    "    except Exception as e:\n",
    "        return e"
   ]
  },
  {
   "cell_type": "markdown",
   "metadata": {},
   "source": [
    "#### Loading Benign Data"
   ]
  },
  {
   "cell_type": "code",
   "execution_count": 4,
   "metadata": {},
   "outputs": [],
   "source": [
    "benign_data = benign_traffic_data(base_directory, file_extension)"
   ]
  },
  {
   "cell_type": "code",
   "execution_count": 5,
   "metadata": {},
   "outputs": [
    {
     "data": {
      "text/plain": [
       "pandas.core.frame.DataFrame"
      ]
     },
     "execution_count": 5,
     "metadata": {},
     "output_type": "execute_result"
    }
   ],
   "source": [
    "type(benign_data)"
   ]
  },
  {
   "cell_type": "code",
   "execution_count": 6,
   "metadata": {},
   "outputs": [
    {
     "data": {
      "text/html": [
       "<div>\n",
       "<style scoped>\n",
       "    .dataframe tbody tr th:only-of-type {\n",
       "        vertical-align: middle;\n",
       "    }\n",
       "\n",
       "    .dataframe tbody tr th {\n",
       "        vertical-align: top;\n",
       "    }\n",
       "\n",
       "    .dataframe thead th {\n",
       "        text-align: right;\n",
       "    }\n",
       "</style>\n",
       "<table border=\"1\" class=\"dataframe\">\n",
       "  <thead>\n",
       "    <tr style=\"text-align: right;\">\n",
       "      <th></th>\n",
       "      <th>MI_dir_L5_weight</th>\n",
       "      <th>MI_dir_L5_mean</th>\n",
       "      <th>MI_dir_L5_variance</th>\n",
       "      <th>MI_dir_L3_weight</th>\n",
       "      <th>MI_dir_L3_mean</th>\n",
       "      <th>MI_dir_L3_variance</th>\n",
       "      <th>MI_dir_L1_weight</th>\n",
       "      <th>MI_dir_L1_mean</th>\n",
       "      <th>MI_dir_L1_variance</th>\n",
       "      <th>MI_dir_L0.1_weight</th>\n",
       "      <th>...</th>\n",
       "      <th>HpHp_L0.1_pcc</th>\n",
       "      <th>HpHp_L0.01_weight</th>\n",
       "      <th>HpHp_L0.01_mean</th>\n",
       "      <th>HpHp_L0.01_std</th>\n",
       "      <th>HpHp_L0.01_magnitude</th>\n",
       "      <th>HpHp_L0.01_radius</th>\n",
       "      <th>HpHp_L0.01_covariance</th>\n",
       "      <th>HpHp_L0.01_pcc</th>\n",
       "      <th>label</th>\n",
       "      <th>device</th>\n",
       "    </tr>\n",
       "  </thead>\n",
       "  <tbody>\n",
       "    <tr>\n",
       "      <th>0</th>\n",
       "      <td>1.000000</td>\n",
       "      <td>60.00000</td>\n",
       "      <td>0.000000</td>\n",
       "      <td>1.000000</td>\n",
       "      <td>60.000000</td>\n",
       "      <td>0.000000</td>\n",
       "      <td>1.000000</td>\n",
       "      <td>60.000000</td>\n",
       "      <td>0.000000</td>\n",
       "      <td>1.000000</td>\n",
       "      <td>...</td>\n",
       "      <td>0.0</td>\n",
       "      <td>1.000000</td>\n",
       "      <td>60.000000</td>\n",
       "      <td>0.000000</td>\n",
       "      <td>60.000000</td>\n",
       "      <td>0.000000</td>\n",
       "      <td>0.0</td>\n",
       "      <td>0.0</td>\n",
       "      <td>Benign</td>\n",
       "      <td>Danmini_Doorbell</td>\n",
       "    </tr>\n",
       "    <tr>\n",
       "      <th>1</th>\n",
       "      <td>1.000000</td>\n",
       "      <td>354.00000</td>\n",
       "      <td>0.000000</td>\n",
       "      <td>1.000000</td>\n",
       "      <td>354.000000</td>\n",
       "      <td>0.000000</td>\n",
       "      <td>1.000000</td>\n",
       "      <td>354.000000</td>\n",
       "      <td>0.000000</td>\n",
       "      <td>1.000000</td>\n",
       "      <td>...</td>\n",
       "      <td>0.0</td>\n",
       "      <td>5.319895</td>\n",
       "      <td>344.262695</td>\n",
       "      <td>4.710446</td>\n",
       "      <td>344.262695</td>\n",
       "      <td>22.188299</td>\n",
       "      <td>0.0</td>\n",
       "      <td>0.0</td>\n",
       "      <td>Benign</td>\n",
       "      <td>Danmini_Doorbell</td>\n",
       "    </tr>\n",
       "    <tr>\n",
       "      <th>2</th>\n",
       "      <td>1.857879</td>\n",
       "      <td>360.45898</td>\n",
       "      <td>35.789338</td>\n",
       "      <td>1.912127</td>\n",
       "      <td>360.275733</td>\n",
       "      <td>35.923972</td>\n",
       "      <td>1.969807</td>\n",
       "      <td>360.091968</td>\n",
       "      <td>35.991542</td>\n",
       "      <td>1.996939</td>\n",
       "      <td>...</td>\n",
       "      <td>0.0</td>\n",
       "      <td>6.318264</td>\n",
       "      <td>347.703087</td>\n",
       "      <td>9.034660</td>\n",
       "      <td>347.703087</td>\n",
       "      <td>81.625077</td>\n",
       "      <td>0.0</td>\n",
       "      <td>0.0</td>\n",
       "      <td>Benign</td>\n",
       "      <td>Danmini_Doorbell</td>\n",
       "    </tr>\n",
       "  </tbody>\n",
       "</table>\n",
       "<p>3 rows × 117 columns</p>\n",
       "</div>"
      ],
      "text/plain": [
       "   MI_dir_L5_weight  MI_dir_L5_mean  MI_dir_L5_variance  MI_dir_L3_weight  \\\n",
       "0          1.000000        60.00000            0.000000          1.000000   \n",
       "1          1.000000       354.00000            0.000000          1.000000   \n",
       "2          1.857879       360.45898           35.789338          1.912127   \n",
       "\n",
       "   MI_dir_L3_mean  MI_dir_L3_variance  MI_dir_L1_weight  MI_dir_L1_mean  \\\n",
       "0       60.000000            0.000000          1.000000       60.000000   \n",
       "1      354.000000            0.000000          1.000000      354.000000   \n",
       "2      360.275733           35.923972          1.969807      360.091968   \n",
       "\n",
       "   MI_dir_L1_variance  MI_dir_L0.1_weight  ...  HpHp_L0.1_pcc  \\\n",
       "0            0.000000            1.000000  ...            0.0   \n",
       "1            0.000000            1.000000  ...            0.0   \n",
       "2           35.991542            1.996939  ...            0.0   \n",
       "\n",
       "   HpHp_L0.01_weight  HpHp_L0.01_mean  HpHp_L0.01_std  HpHp_L0.01_magnitude  \\\n",
       "0           1.000000        60.000000        0.000000             60.000000   \n",
       "1           5.319895       344.262695        4.710446            344.262695   \n",
       "2           6.318264       347.703087        9.034660            347.703087   \n",
       "\n",
       "   HpHp_L0.01_radius  HpHp_L0.01_covariance  HpHp_L0.01_pcc   label  \\\n",
       "0           0.000000                    0.0             0.0  Benign   \n",
       "1          22.188299                    0.0             0.0  Benign   \n",
       "2          81.625077                    0.0             0.0  Benign   \n",
       "\n",
       "             device  \n",
       "0  Danmini_Doorbell  \n",
       "1  Danmini_Doorbell  \n",
       "2  Danmini_Doorbell  \n",
       "\n",
       "[3 rows x 117 columns]"
      ]
     },
     "execution_count": 6,
     "metadata": {},
     "output_type": "execute_result"
    }
   ],
   "source": [
    "# Checking first few row of the data\n",
    "benign_data.head(3)"
   ]
  },
  {
   "cell_type": "code",
   "execution_count": 7,
   "metadata": {},
   "outputs": [
    {
     "data": {
      "text/plain": [
       "(555932, 117)"
      ]
     },
     "execution_count": 7,
     "metadata": {},
     "output_type": "execute_result"
    }
   ],
   "source": [
    "# Dimention of the data\n",
    "benign_data.shape"
   ]
  },
  {
   "cell_type": "code",
   "execution_count": 12,
   "metadata": {},
   "outputs": [
    {
     "name": "stdout",
     "output_type": "stream",
     "text": [
      "<class 'pandas.core.frame.DataFrame'>\n",
      "RangeIndex: 555932 entries, 0 to 555931\n",
      "Columns: 117 entries, MI_dir_L5_weight to device\n",
      "dtypes: float64(115), object(2)\n",
      "memory usage: 496.2+ MB\n"
     ]
    }
   ],
   "source": [
    "# Information about Dataframe\n",
    "benign_data.info()"
   ]
  },
  {
   "cell_type": "code",
   "execution_count": 13,
   "metadata": {},
   "outputs": [
    {
     "data": {
      "text/plain": [
       "Philips_B120N10_Baby_Monitor                175240\n",
       "Provision_PT_838_Security_Camera             98514\n",
       "Provision_PT_737E_Security_Camera            62154\n",
       "Samsung_SNH_1011_N_Webcam                    52150\n",
       "Danmini_Doorbell                             49548\n",
       "SimpleHome_XCS7_1002_WHT_Security_Camera     46585\n",
       "Ennio_Doorbell                               39100\n",
       "SimpleHome_XCS7_1003_WHT_Security_Camera     19528\n",
       "Ecobee_Thermostat                            13113\n",
       "Name: device, dtype: int64"
      ]
     },
     "execution_count": 13,
     "metadata": {},
     "output_type": "execute_result"
    }
   ],
   "source": [
    "# Individual device data count\n",
    "benign_data['device'].value_counts()"
   ]
  },
  {
   "cell_type": "code",
   "execution_count": 14,
   "metadata": {},
   "outputs": [
    {
     "data": {
      "text/plain": [
       "False"
      ]
     },
     "execution_count": 14,
     "metadata": {},
     "output_type": "execute_result"
    }
   ],
   "source": [
    "# Checking data contain any null value\n",
    "benign_data.isnull().values.any()"
   ]
  },
  {
   "cell_type": "code",
   "execution_count": null,
   "metadata": {},
   "outputs": [],
   "source": []
  }
 ],
 "metadata": {
  "kernelspec": {
   "display_name": "Python 3",
   "language": "python",
   "name": "python3"
  },
  "language_info": {
   "codemirror_mode": {
    "name": "ipython",
    "version": 3
   },
   "file_extension": ".py",
   "mimetype": "text/x-python",
   "name": "python",
   "nbconvert_exporter": "python",
   "pygments_lexer": "ipython3",
   "version": "3.7.8"
  }
 },
 "nbformat": 4,
 "nbformat_minor": 4
}
